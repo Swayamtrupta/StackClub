{
 "cells": [
  {
   "cell_type": "markdown",
   "metadata": {},
   "source": [
    "# Data Access with the Gen-2 Butler\n",
    "\n",
    "<br>Owner: **Daniel Perrefort** ([@djperrefort](https://github.com/LSSTScienceCollaborations/StackClub/issues/new?body=@djperrefort))\n",
    "<br>Last Verified to Run: **2019-08-08**\n",
    "<br>Verified Stack Release: **v18.1.0**\n",
    "\n",
    "## Core Concepts\n",
    "\n",
    "This notebook provides a hands-on overview of how to interact with the Gen-2 `Butler` (it should be updated for Gen-3, once available). The `Butler` provides a way to access information using a uniform interface without needing to keep track of how the information is internally stored or organized. Data access with `Butler` has three levels you need to be aware of:\n",
    "\n",
    "1. Each instantiated `Butler` object provides access to a collection of datasets called a **repository**. Each repository is defined by Butler using the local file directory where the data is stored.\n",
    "2. Each data set in a **repository** is assigned a unique name called a **type**. These types are strings that describe the data set and should not be confused with an \"object type\" as defined by Python.\n",
    "3. Individual entries in a data set are identified using a unique **data identifier**, which is a dictionary who's allowed keys and values depend on the data set you are working with.\n",
    "\n",
    "## Learning Objectives:\n",
    "\n",
    "This notebook demonstrates how to use the Gen-2 `Butler` object from the DM stack to access and manipulate data. After finishing this notebook, users will know how to:\n",
    "\n",
    "1. Load and access a data repository using `Butler`\n",
    "2. Select subsets of data and convert data into familiar data structures\n",
    "3. Use `Butler` to access coordinate information and cutout postage stamps\n",
    "4. Use `Butler` to access a skymap"
   ]
  },
  {
   "cell_type": "code",
   "execution_count": 1,
   "metadata": {},
   "outputs": [],
   "source": [
    "import matplotlib.pyplot as plt\n",
    "import numpy as np\n",
    "\n",
    "import lsst.afw.display as afwDisplay\n",
    "import lsst.afw.geom as afwGeom\n",
    "import matplotlib.pyplot as plt\n",
    "from lsst.daf.persistence import Butler\n",
    "from lsst.geom import SpherePoint, Angle\n",
    "\n",
    "%matplotlib inline\n"
   ]
  },
  {
   "cell_type": "markdown",
   "metadata": {},
   "source": [
    "## Loading Data\n",
    "\n",
    "To start we instantiate a `Butler` object by providing it with the directory of the **repository** we want to access. Next, we load a **type** of dataset and select data from a single **data identifier**. For this demonstration we consider the `deepCoadd_ref` dataset, which contains tables of information concerning coadded images used in the differencing image pipeline. The id values for this data set include two required values: `tract` and `patch` which denote sections of the sky.\n"
   ]
  },
  {
   "cell_type": "code",
   "execution_count": 2,
   "metadata": {},
   "outputs": [],
   "source": [
    "repo = '/project/shared/data/DATA_ci_hsc/rerun/coaddForcedPhot'\n",
    "butler = Butler(repo)\n"
   ]
  },
  {
   "cell_type": "code",
   "execution_count": 3,
   "metadata": {},
   "outputs": [
    {
     "name": "stdout",
     "output_type": "stream",
     "text": [
      "Data exists for ID: True\n"
     ]
    },
    {
     "data": {
      "text/plain": [
       "<class 'lsst.afw.table.source.source.SourceCatalog'>\n",
       "     id           coord_ra            coord_dec           parent    merge_footprint_i2 ... merge_measurement_N816 merge_measurement_N1010 merge_measurement_N387 merge_measurement_N515\n",
       "                    rad                  rad                                           ...                                                                                             \n",
       "------------ ------------------ ---------------------- ------------ ------------------ ... ---------------------- ----------------------- ---------------------- ----------------------\n",
       "141733920769  5.601937932072626  -0.007369177343746259            0              False ...                  False                   False                  False                  False\n",
       "141733920770  5.601747337602052  -0.007369179333083654            0              False ...                  False                   False                  False                  False\n",
       "141733920771   5.60160072639938  -0.007368366197126273            0              False ...                  False                   False                  False                  False\n",
       "141733920772  5.601203246905067  -0.007365111117314962            0              False ...                  False                   False                  False                  False\n",
       "141733920773  5.601117723637451 -0.0073691840019981065            0              False ...                  False                   False                  False                  False\n",
       "141733920774  5.601009394128058  -0.007369184510778446            0              False ...                  False                   False                  False                  False\n",
       "141733920775  5.600932099684263  -0.007355580455416335            0              False ...                  False                   False                  False                  False\n",
       "141733920776 5.6000716722736845  -0.007351067521759164            0              False ...                  False                   False                  False                  False\n",
       "141733920777  5.599677240226583  -0.007343381506294521            0              False ...                  False                   False                  False                  False\n",
       "141733920778  5.599447711344985  -0.007333977891189167            0              False ...                  False                   False                  False                  False\n",
       "141733920780  5.599225653784244   -0.00735970777003788            0              False ...                  False                   False                  False                  False\n",
       "141733920782  5.599134397714181  -0.007364292711655856            0              False ...                  False                   False                  False                  False\n",
       "141733920783  5.598999481549033  -0.007350063428332608            0              False ...                  False                   False                  False                  False\n",
       "141733920784  5.599594594146143  -0.007365110794044827            0              False ...                  False                   False                  False                  False\n",
       "141733920785  5.600349574515639  -0.007336301965100472            0              False ...                  False                   False                  False                  False\n",
       "141733920786  5.600225023076307  -0.007362669737812871            0              False ...                  False                   False                  False                  False\n",
       "141733920787 5.6006982521427675  -0.007356968222012702            0              False ...                  False                   False                  False                  False\n",
       "141733920788 5.5990855273373255  -0.007362663270141341            0              False ...                  False                   False                  False                  False\n",
       "141733920789   5.59994424299641  -0.007352469929170814            0              False ...                  False                   False                  False                  False\n",
       "141733920790  5.602108978143897  -0.007352885660619698            0              False ...                  False                   False                  False                  False\n",
       "141733920791  5.601883360041097  -0.007354517232617613            0              False ...                  False                   False                  False                  False\n",
       "141733920792  5.600696930836579  -0.007319371066189042            0              False ...                  False                   False                  False                  False\n",
       "141733920793  5.600655083222314  -0.007352081393681883            0              False ...                  False                   False                  False                  False\n",
       "141733920794   5.59998623461301 -0.0073546232075020895            0              False ...                  False                   False                  False                  False\n",
       "         ...                ...                    ...          ...                ... ...                    ...                     ...                    ...                    ...\n",
       "141733935396  5.598740276963739   -0.00423133301977613 141733925440              False ...                  False                   False                  False                  False\n",
       "141733935397   5.59873785153139  -0.004222898496983705 141733925440              False ...                  False                   False                  False                  False\n",
       "141733935398 5.5997963027506685  -0.004214300333588199 141733925449              False ...                  False                   False                  False                  False\n",
       "141733935399  5.599785346534772 -0.0042192161375389555 141733925449              False ...                  False                   False                  False                  False\n",
       "141733935400  5.598829729589684  -0.004187291859005852 141733925474              False ...                  False                   False                  False                  False\n",
       "141733935401  5.598835502186335  -0.004187129680211888 141733925474              False ...                  False                   False                  False                  False\n",
       "141733935402  5.601395585284032 -0.0041568014730026465 141733925492              False ...                  False                   False                  False                  False\n",
       "141733935403  5.601386442455728  -0.004156910626895741 141733925492              False ...                  False                   False                  False                  False\n",
       "141733935404 5.5989013479670815  -0.004153607704195762 141733925493              False ...                  False                   False                  False                  False\n",
       "141733935405  5.598894801107462  -0.004147613661503082 141733925493              False ...                  False                   False                  False                  False\n",
       "141733935406  5.600443584017752  -0.004125598612933929 141733925505              False ...                  False                   False                  False                  False\n",
       "141733935407  5.600434439086157   -0.00412291285028197 141733925505              False ...                  False                   False                  False                  False\n",
       "141733935408  5.599122780435096  -0.004033393004079098 141733925569              False ...                  False                   False                  False                  False\n",
       "141733935409  5.599113982525416 -0.0040239825024183514 141733925569              False ...                  False                   False                  False                  False\n",
       "141733935410  5.600098287651457  -0.004019508440910534 141733925574              False ...                  False                   False                  False                  False\n",
       "141733935411  5.600094963310413  -0.004027922944336046 141733925574              False ...                  False                   False                  False                  False\n",
       "141733935412  5.600196840452839  -0.003992708064503858 141733925586              False ...                  False                   False                  False                  False\n",
       "141733935413  5.600190578299347   -0.00399971823686475 141733925586              False ...                  False                   False                  False                  False\n",
       "141733935414  5.600182358328468  -0.004001353740768343 141733925586              False ...                  False                   False                  False                  False\n",
       "141733935415  5.600318309944267  -0.003986404700396193 141733925596              False ...                  False                   False                  False                  False\n",
       "141733935416  5.600322990282214  -0.003983395192875233 141733925596              False ...                  False                   False                  False                  False\n",
       "141733935417  5.600261974557261 -0.0039793816976536394 141733925598              False ...                  False                   False                  False                  False\n",
       "141733935418  5.600265425190486  -0.003975093498334083 141733925598              False ...                  False                   False                  False                  False\n",
       "141733935419  5.599294877349284  -0.003962187468740087 141733925608              False ...                  False                   False                  False                  False\n",
       "141733935420  5.599282659976917  -0.003963001897763733 141733925608              False ...                  False                   False                  False                  False\n",
       "Length = 9712 rows"
      ]
     },
     "execution_count": 3,
     "metadata": {},
     "output_type": "execute_result"
    }
   ],
   "source": [
    "# We choose an \"arbitrary\" tract and patch. \n",
    "# Want to figure out how we found this tract and patch? Check out the notebook on Exploring_A_Data_Repo.ipynb\n",
    "data_id = {'tract': 0, 'patch': '1,1'}\n",
    "dataset_type = 'deepCoadd_ref'\n",
    "\n",
    "# We can check that the data exists before we try to read it\n",
    "data_exists = butler.datasetExists(datasetType=dataset_type, dataId=data_id)\n",
    "print('Data exists for ID:', data_exists)\n",
    "\n",
    "data_entry = butler.get(dataset_type, dataId=data_id)\n",
    "data_entry\n"
   ]
  },
  {
   "cell_type": "markdown",
   "metadata": {},
   "source": [
    "The data table returned above is formatted as a `SourceCatalog` object, which is essentially a collection of `numpy` arrays. We can see this when we index a particular column. "
   ]
  },
  {
   "cell_type": "code",
   "execution_count": 4,
   "metadata": {},
   "outputs": [
    {
     "name": "stdout",
     "output_type": "stream",
     "text": [
      "<class 'numpy.ndarray'>\n"
     ]
    }
   ],
   "source": [
    "print(type(data_entry['merge_measurement_i']))\n"
   ]
  },
  {
   "cell_type": "markdown",
   "metadata": {},
   "source": [
    "`SourceCatalog` objects have their own set of methods for table manipulations (sorting, appending rows, etc.). However, we can also work with the data in a more familiar format, such as an astropy `Table` or a pandas `DataFrame`. "
   ]
  },
  {
   "cell_type": "code",
   "execution_count": 5,
   "metadata": {},
   "outputs": [
    {
     "data": {
      "text/html": [
       "<div>\n",
       "<style scoped>\n",
       "    .dataframe tbody tr th:only-of-type {\n",
       "        vertical-align: middle;\n",
       "    }\n",
       "\n",
       "    .dataframe tbody tr th {\n",
       "        vertical-align: top;\n",
       "    }\n",
       "\n",
       "    .dataframe thead th {\n",
       "        text-align: right;\n",
       "    }\n",
       "</style>\n",
       "<table border=\"1\" class=\"dataframe\">\n",
       "  <thead>\n",
       "    <tr style=\"text-align: right;\">\n",
       "      <th></th>\n",
       "      <th>id</th>\n",
       "      <th>coord_ra</th>\n",
       "      <th>coord_dec</th>\n",
       "      <th>parent</th>\n",
       "      <th>merge_footprint_i2</th>\n",
       "      <th>merge_footprint_i</th>\n",
       "      <th>merge_footprint_r2</th>\n",
       "      <th>merge_footprint_r</th>\n",
       "      <th>merge_footprint_z</th>\n",
       "      <th>merge_footprint_y</th>\n",
       "      <th>...</th>\n",
       "      <th>merge_measurement_r2</th>\n",
       "      <th>merge_measurement_r</th>\n",
       "      <th>merge_measurement_z</th>\n",
       "      <th>merge_measurement_y</th>\n",
       "      <th>merge_measurement_g</th>\n",
       "      <th>merge_measurement_N921</th>\n",
       "      <th>merge_measurement_N816</th>\n",
       "      <th>merge_measurement_N1010</th>\n",
       "      <th>merge_measurement_N387</th>\n",
       "      <th>merge_measurement_N515</th>\n",
       "    </tr>\n",
       "  </thead>\n",
       "  <tbody>\n",
       "    <tr>\n",
       "      <th>0</th>\n",
       "      <td>141733920769</td>\n",
       "      <td>5.601938</td>\n",
       "      <td>-0.007369</td>\n",
       "      <td>0</td>\n",
       "      <td>False</td>\n",
       "      <td>True</td>\n",
       "      <td>False</td>\n",
       "      <td>False</td>\n",
       "      <td>False</td>\n",
       "      <td>False</td>\n",
       "      <td>...</td>\n",
       "      <td>False</td>\n",
       "      <td>True</td>\n",
       "      <td>False</td>\n",
       "      <td>False</td>\n",
       "      <td>False</td>\n",
       "      <td>False</td>\n",
       "      <td>False</td>\n",
       "      <td>False</td>\n",
       "      <td>False</td>\n",
       "      <td>False</td>\n",
       "    </tr>\n",
       "    <tr>\n",
       "      <th>1</th>\n",
       "      <td>141733920770</td>\n",
       "      <td>5.601747</td>\n",
       "      <td>-0.007369</td>\n",
       "      <td>0</td>\n",
       "      <td>False</td>\n",
       "      <td>True</td>\n",
       "      <td>False</td>\n",
       "      <td>False</td>\n",
       "      <td>False</td>\n",
       "      <td>False</td>\n",
       "      <td>...</td>\n",
       "      <td>False</td>\n",
       "      <td>True</td>\n",
       "      <td>False</td>\n",
       "      <td>False</td>\n",
       "      <td>False</td>\n",
       "      <td>False</td>\n",
       "      <td>False</td>\n",
       "      <td>False</td>\n",
       "      <td>False</td>\n",
       "      <td>False</td>\n",
       "    </tr>\n",
       "    <tr>\n",
       "      <th>2</th>\n",
       "      <td>141733920771</td>\n",
       "      <td>5.601601</td>\n",
       "      <td>-0.007368</td>\n",
       "      <td>0</td>\n",
       "      <td>False</td>\n",
       "      <td>True</td>\n",
       "      <td>False</td>\n",
       "      <td>False</td>\n",
       "      <td>False</td>\n",
       "      <td>False</td>\n",
       "      <td>...</td>\n",
       "      <td>False</td>\n",
       "      <td>True</td>\n",
       "      <td>False</td>\n",
       "      <td>False</td>\n",
       "      <td>False</td>\n",
       "      <td>False</td>\n",
       "      <td>False</td>\n",
       "      <td>False</td>\n",
       "      <td>False</td>\n",
       "      <td>False</td>\n",
       "    </tr>\n",
       "    <tr>\n",
       "      <th>3</th>\n",
       "      <td>141733920772</td>\n",
       "      <td>5.601203</td>\n",
       "      <td>-0.007365</td>\n",
       "      <td>0</td>\n",
       "      <td>False</td>\n",
       "      <td>True</td>\n",
       "      <td>False</td>\n",
       "      <td>True</td>\n",
       "      <td>False</td>\n",
       "      <td>False</td>\n",
       "      <td>...</td>\n",
       "      <td>False</td>\n",
       "      <td>False</td>\n",
       "      <td>False</td>\n",
       "      <td>False</td>\n",
       "      <td>False</td>\n",
       "      <td>False</td>\n",
       "      <td>False</td>\n",
       "      <td>False</td>\n",
       "      <td>False</td>\n",
       "      <td>False</td>\n",
       "    </tr>\n",
       "    <tr>\n",
       "      <th>4</th>\n",
       "      <td>141733920773</td>\n",
       "      <td>5.601118</td>\n",
       "      <td>-0.007369</td>\n",
       "      <td>0</td>\n",
       "      <td>False</td>\n",
       "      <td>True</td>\n",
       "      <td>False</td>\n",
       "      <td>True</td>\n",
       "      <td>False</td>\n",
       "      <td>False</td>\n",
       "      <td>...</td>\n",
       "      <td>False</td>\n",
       "      <td>False</td>\n",
       "      <td>False</td>\n",
       "      <td>False</td>\n",
       "      <td>False</td>\n",
       "      <td>False</td>\n",
       "      <td>False</td>\n",
       "      <td>False</td>\n",
       "      <td>False</td>\n",
       "      <td>False</td>\n",
       "    </tr>\n",
       "  </tbody>\n",
       "</table>\n",
       "<p>5 rows × 926 columns</p>\n",
       "</div>"
      ],
      "text/plain": [
       "             id  coord_ra  coord_dec  parent  merge_footprint_i2  \\\n",
       "0  141733920769  5.601938  -0.007369       0               False   \n",
       "1  141733920770  5.601747  -0.007369       0               False   \n",
       "2  141733920771  5.601601  -0.007368       0               False   \n",
       "3  141733920772  5.601203  -0.007365       0               False   \n",
       "4  141733920773  5.601118  -0.007369       0               False   \n",
       "\n",
       "   merge_footprint_i  merge_footprint_r2  merge_footprint_r  \\\n",
       "0               True               False              False   \n",
       "1               True               False              False   \n",
       "2               True               False              False   \n",
       "3               True               False               True   \n",
       "4               True               False               True   \n",
       "\n",
       "   merge_footprint_z  merge_footprint_y  ...  merge_measurement_r2  \\\n",
       "0              False              False  ...                 False   \n",
       "1              False              False  ...                 False   \n",
       "2              False              False  ...                 False   \n",
       "3              False              False  ...                 False   \n",
       "4              False              False  ...                 False   \n",
       "\n",
       "   merge_measurement_r  merge_measurement_z  merge_measurement_y  \\\n",
       "0                 True                False                False   \n",
       "1                 True                False                False   \n",
       "2                 True                False                False   \n",
       "3                False                False                False   \n",
       "4                False                False                False   \n",
       "\n",
       "   merge_measurement_g  merge_measurement_N921  merge_measurement_N816  \\\n",
       "0                False                   False                   False   \n",
       "1                False                   False                   False   \n",
       "2                False                   False                   False   \n",
       "3                False                   False                   False   \n",
       "4                False                   False                   False   \n",
       "\n",
       "   merge_measurement_N1010  merge_measurement_N387  merge_measurement_N515  \n",
       "0                    False                   False                   False  \n",
       "1                    False                   False                   False  \n",
       "2                    False                   False                   False  \n",
       "3                    False                   False                   False  \n",
       "4                    False                   False                   False  \n",
       "\n",
       "[5 rows x 926 columns]"
      ]
     },
     "execution_count": 5,
     "metadata": {},
     "output_type": "execute_result"
    }
   ],
   "source": [
    "data_frame = data_entry.asAstropy().to_pandas()\n",
    "data_frame.head()\n"
   ]
  },
  {
   "cell_type": "markdown",
   "metadata": {},
   "source": [
    "It is important to note that `Butler` objects do not always return tabular data. We will see an example of this later when we load and parse image data."
   ]
  },
  {
   "cell_type": "markdown",
   "metadata": {},
   "source": [
    "## Selecting Subsets of Data\n",
    "\n",
    "In practice, you may not know the format of the data identifier for a given data set. In this case, the `getKeys()` method can be used to determine the key values expected in a **data identifier**. "
   ]
  },
  {
   "cell_type": "code",
   "execution_count": 6,
   "metadata": {},
   "outputs": [
    {
     "name": "stdout",
     "output_type": "stream",
     "text": [
      "Expected data id format: {'tract': <class 'int'>, 'patch': <class 'str'>}\n"
     ]
    }
   ],
   "source": [
    "data_id_format = butler.getKeys(dataset_type)\n",
    "print('Expected data id format:', data_id_format)\n"
   ]
  },
  {
   "cell_type": "markdown",
   "metadata": {},
   "source": [
    "It is important to note that if you specify a key that is not part of the data **type**, the `Butler` will silently ignore it. This can be misleading. For example, in the previous example we read in a table that has a column of booleans named `merge_footprint_i`. If you specify `merge_footprint_i: True` in the dataID and rerun the example, `Butler` will ignore the extra key silently. As a result, you might expect the returned table to only include values where `merge_footprint_i` is `True`, but that isn't what happens. \n",
    "\n",
    "Here is an example of the correct way to select data from the returned table:\n"
   ]
  },
  {
   "cell_type": "code",
   "execution_count": 7,
   "metadata": {},
   "outputs": [
    {
     "name": "stdout",
     "output_type": "stream",
     "text": [
      "True\n"
     ]
    }
   ],
   "source": [
    "# An example of what not to do!!\n",
    "#\n",
    "# new_data_id = {'tract': 0, 'patch': '1,1', 'merge_footprint_i': True}\n",
    "# merged_i_data = butler.get(dataset_type, dataId=new_data_id)\n",
    "# assert merged_i_data['merge_measurement_i'].all()\n",
    "\n",
    "# Do this instead...\n",
    "new_data_id = {'tract': 0, 'patch': '1,1'}\n",
    "merged_i_data = butler.get(dataset_type, dataId=new_data_id)\n",
    "merged_i_data = merged_i_data[merged_i_data['merge_measurement_i']].copy(True)\n",
    "\n",
    "# Check that the returned table does in fact have only entries where\n",
    "# merge_footprint_i is True\n",
    "print(merged_i_data['merge_measurement_i'].all())\n"
   ]
  },
  {
   "cell_type": "markdown",
   "metadata": {},
   "source": [
    "**Important:**  Note the use of `copy` above which is required to create an array that is contiguous in memory (yay!)\n",
    "\n",
    "You can also select all complete dataIds for a dataset type that match a partial (or empty) dataId. For example, the below cell iterates over all possible ids and checks if the corresponding file exists.\n"
   ]
  },
  {
   "cell_type": "code",
   "execution_count": 8,
   "metadata": {},
   "outputs": [
    {
     "name": "stdout",
     "output_type": "stream",
     "text": [
      "Available Ids:\n",
      " [DataId(initialdata={'tract': 0, 'patch': '1,1'}, tag=set())]\n"
     ]
    }
   ],
   "source": [
    "subset = butler.subset(dataset_type, dataId=data_id)\n",
    "id_list = [dr.dataId for dr in subset if dr.datasetExists()]\n",
    "print(f'Available Ids:\\n {id_list}')\n"
   ]
  },
  {
   "cell_type": "markdown",
   "metadata": {},
   "source": [
    "## Creating Postage Stamps\n",
    "\n",
    "When dealing with image data, we can use `Butler` to generate postage stamps at a given set of coordinates. For this example, we consider the `deepCoadd` data set, which has one extra key value than the previous example."
   ]
  },
  {
   "cell_type": "code",
   "execution_count": 9,
   "metadata": {},
   "outputs": [
    {
     "data": {
      "text/plain": [
       "{'filter': str, 'tract': int, 'patch': str}"
      ]
     },
     "execution_count": 9,
     "metadata": {},
     "output_type": "execute_result"
    }
   ],
   "source": [
    "coadd_type = 'deepCoadd'\n",
    "butler.getKeys(coadd_type)\n"
   ]
  },
  {
   "cell_type": "markdown",
   "metadata": {},
   "source": [
    "In order to generate a postage stamp, we need to define the center and size of the cutout. First, we pick an RA and Dec from our previous example."
   ]
  },
  {
   "cell_type": "code",
   "execution_count": 10,
   "metadata": {},
   "outputs": [],
   "source": [
    "# Find indices of all targets with a flux between 100 and 500 as follows\n",
    "# np.where((merged_i_data['base_PsfFlux_flux'] > 100) & (merged_i_data['base_PsfFlux_flux'] < 500))\n",
    "\n",
    "# Pick an RA and Dec\n",
    "i = 1000\n",
    "ra =  np.degrees(merged_i_data['coord_ra'][i])\n",
    "dec = np.degrees(merged_i_data['coord_dec'][i])\n"
   ]
  },
  {
   "cell_type": "markdown",
   "metadata": {},
   "source": [
    "Next we plot our cutout."
   ]
  },
  {
   "cell_type": "code",
   "execution_count": 11,
   "metadata": {},
   "outputs": [],
   "source": [
    "# Retrieve the image using butler\n",
    "coadd_id = {'tract': 0, 'patch': '1,1', 'filter': 'HSC-I'}\n",
    "image = butler.get(coadd_type, dataId=coadd_id)\n",
    "\n",
    "# Define the center and size of our cutout\n",
    "radec = SpherePoint(ra, dec, afwGeom.degrees)\n",
    "cutout_size = 150\n",
    "cutout_extent = afwGeom.ExtentI(cutout_size, cutout_size)\n",
    "\n",
    "# Cutout and optionally save the postage stamp to file\n",
    "postage_stamp = image.getCutout(radec, cutout_extent)\n",
    "# postage_stamp.writeFits(<output_filename>)\n"
   ]
  },
  {
   "cell_type": "markdown",
   "metadata": {},
   "source": [
    "Since the postage stamp was generated using `Butler`, it is represented as an `afwImage` object. This is a data type from the DM stack that is used to represent images. Since it is a DM object, we choose to plot it using the DM `afwDisplay` module."
   ]
  },
  {
   "cell_type": "code",
   "execution_count": 12,
   "metadata": {},
   "outputs": [
    {
     "data": {
      "image/png": "[encoded data removed]",
      "text/plain": [
       "<Figure size 432x288 with 2 Axes>"
      ]
     },
     "metadata": {
      "needs_background": "light"
     },
     "output_type": "display_data"
    }
   ],
   "source": [
    "xy = postage_stamp.getWcs().skyToPixel(radec)\n",
    "\n",
    "display = afwDisplay.Display(frame=1, backend='matplotlib')\n",
    "display.mtv(postage_stamp)\n",
    "display.scale(\"linear\", \"zscale\")\n",
    "display.dot('o', xy.getX(), xy.getY(), ctype='red')\n",
    "display.show_colorbar()\n",
    "\n",
    "plt.xlabel('x')\n",
    "plt.ylabel('y')\n",
    "plt.show()\n"
   ]
  },
  {
   "cell_type": "markdown",
   "metadata": {},
   "source": [
    "Note that the cutout image is aware of the masks and pixel values of the original image. This is why the axis labels in the above cutout are so large. We also note that the orientation of the postage stamp is in the x, y orientation of the original coadded image.\n"
   ]
  },
  {
   "cell_type": "markdown",
   "metadata": {},
   "source": [
    "## Selecting an Area on the Sky with a Sky Map\n",
    "\n",
    "As a final example, we consider a third type of data that can be accessed via `Butler` called a `skyMap`. Sky maps allow you to look up information for a given `tract` and `patch`. You may notice from the below example that data set **types** tend to follow the naming convention of having a base name (e.g. `'deepCoadd'`) followed by a descriptor (e.g. `'_skyMap'`)."
   ]
  },
  {
   "cell_type": "code",
   "execution_count": 13,
   "metadata": {},
   "outputs": [
    {
     "data": {
      "text/plain": [
       "TractInfo(id=0, ctrCoord=[0.7758223969435439, -0.6309258955283994, -0.005667693751566388])"
      ]
     },
     "execution_count": 13,
     "metadata": {},
     "output_type": "execute_result"
    }
   ],
   "source": [
    "skymap = butler.get('deepCoadd_skyMap')\n",
    "tract_info = skymap[0]\n",
    "tract_info\n"
   ]
  },
  {
   "cell_type": "code",
   "execution_count": 14,
   "metadata": {},
   "outputs": [
    {
     "data": {
      "text/plain": [
       "PatchInfo(index=(1, 1), innerBBox=(minimum=(4000, 4000), maximum=(7999, 7999)), outerBBox=(minimum=(3900, 3900), maximum=(8099, 8099)))"
      ]
     },
     "execution_count": 14,
     "metadata": {},
     "output_type": "execute_result"
    }
   ],
   "source": [
    "patch_info = tract_info.getPatchInfo((1,1))\n",
    "patch_info\n"
   ]
  },
  {
   "cell_type": "code",
   "execution_count": 15,
   "metadata": {},
   "outputs": [
    {
     "name": "stdout",
     "output_type": "stream",
     "text": [
      "Tract corners in pixels:\n",
      " [Point2D(-0.5, -0.5), Point2D(11999.5, -0.5), Point2D(11999.5, 11999.5), Point2D(-0.5, 11999.5)]\n",
      "\n",
      "Tract corners in degrees:\n",
      " [[321.1607717975987, -0.604703888774409], [320.6007517512293, -0.6047038863675064], [320.60076726329254, -0.04471503228990746], [321.1607562881205, -0.044715032467871375]]\n"
     ]
    }
   ],
   "source": [
    "tract_bbox = tract_info.getBBox()\n",
    "tract_pix_corners = afwGeom.Box2D(tract_bbox).getCorners()\n",
    "print('Tract corners in pixels:\\n', tract_pix_corners)\n",
    "\n",
    "wcs = tract_info.getWcs()\n",
    "tract_deg_corners = wcs.pixelToSky(tract_pix_corners)\n",
    "tract_deg_corners = [[c.getRa().asDegrees(), c.getDec().asDegrees()] for c in tract_deg_corners]\n",
    "print('\\nTract corners in degrees:\\n', tract_deg_corners)\n"
   ]
  },
  {
   "cell_type": "code",
   "execution_count": 16,
   "metadata": {},
   "outputs": [
    {
     "name": "stdout",
     "output_type": "stream",
     "text": [
      "TractInfo(id=0)\n",
      "(PatchInfo(index=(1, 1), innerBBox=(minimum=(4000, 4000), maximum=(7999, 7999)), outerBBox=(minimum=(3900, 3900), maximum=(8099, 8099))),)\n"
     ]
    }
   ],
   "source": [
    "#You can also go in reverse to find the tract, patch that contains a coordinate (320.8,-0.4)\n",
    "coordList = [SpherePoint(Angle(np.radians(320.8)),Angle(np.radians(-0.4)))]\n",
    "tractInfo = skymap.findClosestTractPatchList(coordList)\n",
    "print(tractInfo[0][0])\n",
    "print(tractInfo[0][1])"
   ]
  }
 ],
 "metadata": {
  "kernelspec": {
   "display_name": "LSST",
   "language": "python",
   "name": "lsst"
  },
  "language_info": {
   "codemirror_mode": {
    "name": "ipython",
    "version": 3
   },
   "file_extension": ".py",
   "mimetype": "text/x-python",
   "name": "python",
   "nbconvert_exporter": "python",
   "pygments_lexer": "ipython3",
   "version": "3.7.2"
  }
 },
 "nbformat": 4,
 "nbformat_minor": 4
}
